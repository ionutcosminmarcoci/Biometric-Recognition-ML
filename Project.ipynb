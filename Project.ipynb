{
  "nbformat": 4,
  "nbformat_minor": 0,
  "metadata": {
    "colab": {
      "name": "Proiect.ipynb",
      "provenance": [],
      "collapsed_sections": []
    },
    "kernelspec": {
      "name": "python3",
      "display_name": "Python 3"
    }
  },
  "cells": [
    {
      "cell_type": "code",
      "metadata": {
        "id": "KN5RHsGIw38a",
        "colab_type": "code",
        "outputId": "fb7a2e6d-f0f3-4437-c501-72a68d03851c",
        "colab": {
          "base_uri": "https://localhost:8080/",
          "height": 121
        }
      },
      "source": [
        "from google.colab import drive # loads a library to mount your google drive\n",
        "drive.mount('/content/drive') "
      ],
      "execution_count": 0,
      "outputs": [
        {
          "output_type": "stream",
          "text": [
            "Go to this URL in a browser: https://accounts.google.com/o/oauth2/auth?client_id=947318989803-6bn6qk8qdgf4n4g3pfee6491hc0brc4i.apps.googleusercontent.com&redirect_uri=urn%3aietf%3awg%3aoauth%3a2.0%3aoob&response_type=code&scope=email%20https%3a%2f%2fwww.googleapis.com%2fauth%2fdocs.test%20https%3a%2f%2fwww.googleapis.com%2fauth%2fdrive%20https%3a%2f%2fwww.googleapis.com%2fauth%2fdrive.photos.readonly%20https%3a%2f%2fwww.googleapis.com%2fauth%2fpeopleapi.readonly\n",
            "\n",
            "Enter your authorization code:\n",
            "··········\n",
            "Mounted at /content/drive\n"
          ],
          "name": "stdout"
        }
      ]
    },
    {
      "cell_type": "code",
      "metadata": {
        "id": "R1tf6VGBykCp",
        "colab_type": "code",
        "outputId": "fd660e41-e502-45bc-9d71-4df73c565eea",
        "colab": {
          "base_uri": "https://localhost:8080/",
          "height": 34
        }
      },
      "source": [
        "!ls \"/content/drive/My Drive/\" # shows all files in your google drive root, including the project data file Tr0\n",
        "path = \"/content/drive/My Drive/\" # sets the path to the root with the file Tr0"
      ],
      "execution_count": 0,
      "outputs": [
        {
          "output_type": "stream",
          "text": [
            "'Colab Notebooks'   Tr0   Tr0.zip   yaleExtB_data.npy   yaleExtB_target.npy\n"
          ],
          "name": "stdout"
        }
      ]
    },
    {
      "cell_type": "code",
      "metadata": {
        "id": "ByfQX6xYykGA",
        "colab_type": "code",
        "outputId": "e4103304-46d8-42e6-8b84-d4bf38078665",
        "colab": {
          "base_uri": "https://localhost:8080/",
          "height": 34
        }
      },
      "source": [
        "import os     # loads a library to work with data files\n",
        "os.chdir(path) \n",
        "dnam = 'Tr0'\n",
        "!unzip -q {dnam} # unzups the project file Tr0"
      ],
      "execution_count": 0,
      "outputs": [
        {
          "output_type": "stream",
          "text": [
            "replace Tr0/yaleB02_P00A+000E+00.jpg? [y]es, [n]o, [A]ll, [N]one, [r]ename: N\n"
          ],
          "name": "stdout"
        }
      ]
    },
    {
      "cell_type": "code",
      "metadata": {
        "id": "Gqru07IfykKo",
        "colab_type": "code",
        "outputId": "48acf63d-b975-4d26-d96e-eb0c80127624",
        "colab": {
          "base_uri": "https://localhost:8080/",
          "height": 34
        }
      },
      "source": [
        "from os import listdir # loads a library to work with directories \n",
        "fls = listdir(path + dnam) # creates a list of all image files\n",
        "n = len(fls) # the number of the image files  \n",
        "print('Number of images %i' % n)"
      ],
      "execution_count": 0,
      "outputs": [
        {
          "output_type": "stream",
          "text": [
            "Number of images 1500\n"
          ],
          "name": "stdout"
        }
      ]
    },
    {
      "cell_type": "code",
      "metadata": {
        "id": "BwzMDIPVykNo",
        "colab_type": "code",
        "outputId": "9ab293b3-ab33-4df9-e05e-bb8dead2feb5",
        "colab": {
          "base_uri": "https://localhost:8080/",
          "height": 285
        }
      },
      "source": [
        "from matplotlib import image # loads a library to work with images\n",
        "from matplotlib import pyplot # loads a library to plot images\n",
        "im1 = image.imread(path + dnam + '/' + fls[0]) # chooses 1st image from the image list\n",
        "print(im1.shape) # prints the size in pixels of the chosen image \n",
        "pyplot.imshow(im1, cmap=pyplot.cm.gray) # displays the image\n",
        "pyplot.show()"
      ],
      "execution_count": 0,
      "outputs": [
        {
          "output_type": "stream",
          "text": [
            "(77, 68)\n"
          ],
          "name": "stdout"
        },
        {
          "output_type": "display_data",
          "data": {
            "image/png": "[encoded data removed]",
            "text/plain": [
              "<Figure size 432x288 with 1 Axes>"
            ]
          },
          "metadata": {
            "tags": []
          }
        }
      ]
    },
    {
      "cell_type": "code",
      "metadata": {
        "id": "_dBWcYUcykQo",
        "colab_type": "code",
        "colab": {}
      },
      "source": [
        "import numpy as np  # loads a library for working with matrixes \n",
        "m=im1.shape[0]*im1.shape[1]  # m = h*w = (77*68=5236) is the number of pixels in images\n",
        "images_data = np.zeros((n, m)) # creates a nxm-matrix of the images\n",
        "images_target = np.zeros((n,))  # creates a n*1 matrix of targets which are the person labels 1 tp 30\n",
        "# loops over all n=1500 images \n",
        "for i in range(0, n):\n",
        "  filename = fls[i]  # loads a name of the image file\n",
        "  img = image.imread(path + dnam + '/' + filename) # loads the image name\n",
        "  images_data[i,:] = np.ravel(img) # vectorisation of the image \n",
        "  c = int(filename[5:7])  # extracts the class label from the file name\n",
        "  images_target[i] = c  # assigns the target \n",
        "  #if i % 10 == 0:\n",
        "  #  print('> loaded %s %s %s' % (i, filename, c)) # prints the image name"
      ],
      "execution_count": 0,
      "outputs": []
    },
    {
      "cell_type": "code",
      "metadata": {
        "id": "dGtRgyqOykTg",
        "colab_type": "code",
        "colab": {}
      },
      "source": [
        "from numpy import asarray # loads a library for saving matrices\n",
        "from numpy import save\n",
        "# save as a .npy file\n",
        "fn = (path + '/' + 'yaleExtB_data.npy') # creates the file name for the image data\n",
        "save(fn, images_data) \n",
        "fn = (path + '/' + 'yaleExtB_target.npy') # creates the file name for the targets\n",
        "save(fn, images_target)"
      ],
      "execution_count": 0,
      "outputs": []
    },
    {
      "cell_type": "code",
      "metadata": {
        "id": "jO7jqU1iykWQ",
        "colab_type": "code",
        "outputId": "c8ed5e07-0e3c-4805-b6c7-cce35a8826cf",
        "colab": {
          "base_uri": "https://localhost:8080/",
          "height": 34
        }
      },
      "source": [
        "# shows the files in the root, including 2 files *.npy \n",
        "!ls \"/content/drive/My Drive/\" "
      ],
      "execution_count": 0,
      "outputs": [
        {
          "output_type": "stream",
          "text": [
            "'Colab Notebooks'   Tr0   Tr0.zip   yaleExtB_data.npy   yaleExtB_target.npy\n"
          ],
          "name": "stdout"
        }
      ]
    },
    {
      "cell_type": "code",
      "metadata": {
        "id": "agxwnCTkykZI",
        "colab_type": "code",
        "outputId": "b36c32c9-796d-494e-c08e-04e44e7d7cf1",
        "colab": {
          "base_uri": "https://localhost:8080/",
          "height": 34
        }
      },
      "source": [
        "from google.colab import drive # mounts the google drive for a new notebook \n",
        "drive.mount('/content/drive')"
      ],
      "execution_count": 0,
      "outputs": [
        {
          "output_type": "stream",
          "text": [
            "Drive already mounted at /content/drive; to attempt to forcibly remount, call drive.mount(\"/content/drive\", force_remount=True).\n"
          ],
          "name": "stdout"
        }
      ]
    },
    {
      "cell_type": "code",
      "metadata": {
        "id": "Mj4DYV3vykcA",
        "colab_type": "code",
        "colab": {}
      },
      "source": [
        "# load the 2 npy files created by the process_yale_images.ipynb \n",
        "from numpy import load\n",
        "import numpy as np\n",
        "path = '/content/drive/My Drive/'\n",
        "# load array\n",
        "y = load(path + 'yaleExtB_target.npy')\n",
        "X = load(path + 'yaleExtB_data.npy')"
      ],
      "execution_count": 0,
      "outputs": []
    },
    {
      "cell_type": "code",
      "metadata": {
        "id": "jNPHePErykew",
        "colab_type": "code",
        "colab": {}
      },
      "source": [
        "from sklearn.model_selection import train_test_split # loads functions from the ML library sklearn \n",
        "from sklearn.metrics import classification_report\n",
        "from sklearn.decomposition import PCA\n",
        "from sklearn.neural_network import MLPClassifier"
      ],
      "execution_count": 0,
      "outputs": []
    },
    {
      "cell_type": "markdown",
      "metadata": {
        "id": "jE8dzzOzu5n6",
        "colab_type": "text"
      },
      "source": [
        ""
      ]
    },
    {
      "cell_type": "code",
      "metadata": {
        "id": "V5bRPA7kykho",
        "colab_type": "code",
        "colab": {}
      },
      "source": [
        "# split into a training and testing set\n",
        "X_train, X_test, y_train, y_test = train_test_split(X, y, test_size=0.3, random_state=0) # random states reprod\n",
        "val_ratio=0.10  #70% training /30% validation\n"
      ],
      "execution_count": 0,
      "outputs": []
    },
    {
      "cell_type": "code",
      "metadata": {
        "colab_type": "code",
        "id": "X_NNPPakoXF7",
        "colab": {}
      },
      "source": [
        "# PCA \n",
        "nof_prin_components = 180  # PARAMETER for optimisation in expereiments\n",
        "pca = PCA(n_components=nof_prin_components, whiten=True).fit(X_train)\n",
        "# applies PCA to the train and test images to calculate the principal components\n",
        "X_train_pca = pca.transform(X_train) \n",
        "X_test_pca = pca.transform(X_test)\n"
      ],
      "execution_count": 0,
      "outputs": []
    },
    {
      "cell_type": "code",
      "metadata": {
        "id": "0RpoN9kLykoA",
        "colab_type": "code",
        "outputId": "9e4a38cb-ffd1-4f7b-9038-c39674dcbf46",
        "colab": {
          "base_uri": "https://localhost:8080/",
          "height": 34
        }
      },
      "source": [
        "# train a neural network\n",
        "nohn = 127 # nof hidden neurons\n",
        "print(\"Fitting the classifier to the training set\")\n",
        "clf = MLPClassifier(hidden_layer_sizes=(nohn,), solver='lbfgs', activation='tanh', batch_size=256, verbose=True, early_stopping=True).fit(X_train_pca, y_train)\n",
        "\n"
      ],
      "execution_count": 0,
      "outputs": [
        {
          "output_type": "stream",
          "text": [
            "Fitting the classifier to the training set\n"
          ],
          "name": "stdout"
        }
      ]
    },
    {
      "cell_type": "code",
      "metadata": {
        "id": "CewMU74C-ZwD",
        "colab_type": "code",
        "colab": {}
      },
      "source": [
        "%matplotlib inline\n",
        "import numpy as np\n",
        "import matplotlib.pyplot as plt\n",
        "import seaborn as sns; sns.set()"
      ],
      "execution_count": 0,
      "outputs": []
    },
    {
      "cell_type": "code",
      "metadata": {
        "id": "W3EGPhTJ-e7M",
        "colab_type": "code",
        "colab": {}
      },
      "source": [
        "rng = np.random.RandomState(1)\n",
        "X = np.dot(rng.rand(2, 2), rng.randn(2, 200)).T\n",
        "plt.scatter(X[:, 0], X[:, 1])\n",
        "plt.axis('equal');"
      ],
      "execution_count": 0,
      "outputs": []
    },
    {
      "cell_type": "code",
      "metadata": {
        "id": "h_y3MbTn-qsw",
        "colab_type": "code",
        "colab": {}
      },
      "source": [
        "from sklearn.decomposition import PCA\n",
        "pca = PCA(n_components=2)\n",
        "pca.fit(X)"
      ],
      "execution_count": 0,
      "outputs": []
    },
    {
      "cell_type": "code",
      "metadata": {
        "id": "HBiNSdld-vw7",
        "colab_type": "code",
        "colab": {}
      },
      "source": [
        "print(pca.components_)"
      ],
      "execution_count": 0,
      "outputs": []
    },
    {
      "cell_type": "code",
      "metadata": {
        "id": "ZQGuN36e-2p8",
        "colab_type": "code",
        "colab": {}
      },
      "source": [
        "print(pca.explained_variance_)"
      ],
      "execution_count": 0,
      "outputs": []
    },
    {
      "cell_type": "code",
      "metadata": {
        "id": "gEWLZQuS-7Dt",
        "colab_type": "code",
        "colab": {}
      },
      "source": [
        "def draw_vector(v0, v1, ax=None):\n",
        "    ax = ax or plt.gca()\n",
        "    arrowprops=dict(arrowstyle='->',\n",
        "                    linewidth=2,\n",
        "                    shrinkA=0, shrinkB=0)\n",
        "    ax.annotate('', v1, v0, arrowprops=arrowprops)\n",
        "\n",
        "# plot data\n",
        "plt.scatter(X[:, 0], X[:, 1], alpha=0.2)\n",
        "for length, vector in zip(pca.explained_variance_, pca.components_):\n",
        "    v = vector * 3 * np.sqrt(length)\n",
        "    draw_vector(pca.mean_, pca.mean_ + v)\n",
        "plt.axis('equal');"
      ],
      "execution_count": 0,
      "outputs": []
    },
    {
      "cell_type": "code",
      "metadata": {
        "id": "S-eZP-Ck_bVa",
        "colab_type": "code",
        "colab": {}
      },
      "source": [
        "pca = PCA(n_components=1)\n",
        "pca.fit(X)\n",
        "X_pca = pca.transform(X)\n",
        "print(\"original shape:   \", X.shape)\n",
        "print(\"transformed shape:\", X_pca.shape)"
      ],
      "execution_count": 0,
      "outputs": []
    },
    {
      "cell_type": "code",
      "metadata": {
        "id": "bXJp7oSsAS9l",
        "colab_type": "code",
        "colab": {}
      },
      "source": [
        "X_new = pca.inverse_transform(X_pca)\n",
        "plt.scatter(X[:, 0], X[:, 1], alpha=0.2)\n",
        "plt.scatter(X_new[:, 0], X_new[:, 1], alpha=0.8)\n",
        "plt.axis('equal');"
      ],
      "execution_count": 0,
      "outputs": []
    },
    {
      "cell_type": "code",
      "metadata": {
        "id": "2s9gJv7vykq4",
        "colab_type": "code",
        "outputId": "be73e9ee-bd6e-46c4-ffb0-ec9d77e7709e",
        "colab": {
          "base_uri": "https://localhost:8080/",
          "height": 638
        }
      },
      "source": [
        "y_pred = clf.predict(X_test_pca) # reoognises the test images \n",
        "print(classification_report(y_test, y_pred)) # the recognition accuracy\n",
        "\n",
        "\n",
        "\n",
        "\n",
        "\n",
        "\n"
      ],
      "execution_count": 0,
      "outputs": [
        {
          "output_type": "stream",
          "text": [
            "              precision    recall  f1-score   support\n",
            "\n",
            "         2.0       1.00      0.94      0.97        16\n",
            "         3.0       0.94      1.00      0.97        16\n",
            "         4.0       1.00      0.92      0.96        13\n",
            "         5.0       1.00      0.94      0.97        17\n",
            "         6.0       0.95      1.00      0.97        18\n",
            "         7.0       1.00      0.83      0.91        18\n",
            "         8.0       0.83      0.91      0.87        11\n",
            "         9.0       1.00      0.94      0.97        16\n",
            "        11.0       0.93      1.00      0.96        13\n",
            "        12.0       1.00      1.00      1.00        20\n",
            "        13.0       1.00      0.85      0.92        13\n",
            "        15.0       1.00      1.00      1.00        21\n",
            "        16.0       0.93      0.93      0.93        14\n",
            "        17.0       1.00      0.95      0.97        20\n",
            "        18.0       0.93      1.00      0.96        13\n",
            "        20.0       0.92      1.00      0.96        11\n",
            "        22.0       1.00      0.75      0.86        12\n",
            "        23.0       1.00      1.00      1.00        11\n",
            "        24.0       1.00      1.00      1.00        13\n",
            "        25.0       1.00      0.95      0.97        19\n",
            "        26.0       1.00      1.00      1.00        14\n",
            "        27.0       0.92      1.00      0.96        12\n",
            "        28.0       1.00      0.94      0.97        18\n",
            "        32.0       1.00      1.00      1.00        12\n",
            "        33.0       0.88      0.93      0.90        15\n",
            "        34.0       1.00      0.94      0.97        16\n",
            "        35.0       0.68      1.00      0.81        13\n",
            "        37.0       0.92      1.00      0.96        11\n",
            "        38.0       0.94      1.00      0.97        16\n",
            "        39.0       1.00      1.00      1.00        18\n",
            "\n",
            "    accuracy                           0.96       450\n",
            "   macro avg       0.96      0.96      0.96       450\n",
            "weighted avg       0.96      0.96      0.96       450\n",
            "\n"
          ],
          "name": "stdout"
        }
      ]
    },
    {
      "cell_type": "code",
      "metadata": {
        "id": "uPf8hlsj4DgD",
        "colab_type": "code",
        "colab": {}
      },
      "source": [
        "print(__doc__)\n",
        "\n",
        "import warnings\n",
        "\n",
        "import matplotlib.pyplot as plt\n",
        "\n",
        "from sklearn.neural_network import MLPClassifier\n",
        "from sklearn.preprocessing import MinMaxScaler\n",
        "from sklearn import datasets\n",
        "from sklearn.exceptions import ConvergenceWarning\n",
        "\n",
        "# different learning rate schedules and momentum parameters\n",
        "params = [{'solver': 'sgd', 'learning_rate': 'constant', 'momentum': 0,\n",
        "           'learning_rate_init': 0.2},\n",
        "          {'solver': 'sgd', 'learning_rate': 'constant', 'momentum': .9,\n",
        "           'nesterovs_momentum': False, 'learning_rate_init': 0.2},\n",
        "          {'solver': 'sgd', 'learning_rate': 'constant', 'momentum': .9,\n",
        "           'nesterovs_momentum': True, 'learning_rate_init': 0.2},\n",
        "          {'solver': 'sgd', 'learning_rate': 'invscaling', 'momentum': 0,\n",
        "           'learning_rate_init': 0.2},\n",
        "          {'solver': 'sgd', 'learning_rate': 'invscaling', 'momentum': .9,\n",
        "           'nesterovs_momentum': True, 'learning_rate_init': 0.2},\n",
        "          {'solver': 'sgd', 'learning_rate': 'invscaling', 'momentum': .9,\n",
        "           'nesterovs_momentum': False, 'learning_rate_init': 0.2},\n",
        "          {'solver': 'adam', 'learning_rate_init': 0.01}]\n",
        "\n",
        "labels = [\"constant learning-rate\", \"constant with momentum\",\n",
        "          \"constant with Nesterov's momentum\",\n",
        "          \"inv-scaling learning-rate\", \"inv-scaling with momentum\",\n",
        "          \"inv-scaling with Nesterov's momentum\", \"adam\"]\n",
        "\n",
        "plot_args = [{'c': 'red', 'linestyle': '-'},\n",
        "             {'c': 'green', 'linestyle': '-'},\n",
        "             {'c': 'blue', 'linestyle': '-'},\n",
        "             {'c': 'red', 'linestyle': '--'},\n",
        "             {'c': 'green', 'linestyle': '--'},\n",
        "             {'c': 'blue', 'linestyle': '--'},\n",
        "             {'c': 'black', 'linestyle': '-'}]\n",
        "\n",
        "\n",
        "def plot_on_dataset(X, y, ax, name):\n",
        "    # for each dataset, plot learning for each learning strategy\n",
        "    print(\"\\nlearning on dataset %s\" % name)\n",
        "    ax.set_title(name)\n",
        "\n",
        "    X = MinMaxScaler().fit_transform(X)\n",
        "    mlps = []\n",
        "    if name == \"digits\":\n",
        "        # digits is larger but converges fairly quickly\n",
        "        max_iter = 15\n",
        "    else:\n",
        "        max_iter = 400\n",
        "\n",
        "    for label, param in zip(labels, params):\n",
        "        print(\"training: %s\" % label)\n",
        "        mlp = MLPClassifier(random_state=0,\n",
        "                            max_iter=max_iter, **param)\n",
        "\n",
        "        # some parameter combinations will not converge as can be seen on the\n",
        "        # plots so they are ignored here\n",
        "        with warnings.catch_warnings():\n",
        "            warnings.filterwarnings(\"ignore\", category=ConvergenceWarning,\n",
        "                                    module=\"sklearn\")\n",
        "            mlp.fit(X, y)\n",
        "\n",
        "        mlps.append(mlp)\n",
        "        print(\"Training set score: %f\" % mlp.score(X, y))\n",
        "        print(\"Training set loss: %f\" % mlp.loss_)\n",
        "    for mlp, label, args in zip(mlps, labels, plot_args):\n",
        "        ax.plot(mlp.loss_curve_, label=label, **args)\n",
        "\n",
        "\n",
        "fig, axes = plt.subplots(2, 2, figsize=(15, 10))\n",
        "# load / generate some toy datasets\n",
        "iris = datasets.load_iris()\n",
        "X_digits, y_digits = datasets.load_digits(return_X_y=True)\n",
        "data_sets = [(iris.data, iris.target),\n",
        "             (X_digits, y_digits),\n",
        "             datasets.make_circles(noise=0.2, factor=0.5, random_state=1),\n",
        "             datasets.make_moons(noise=0.3, random_state=0)]\n",
        "\n",
        "for ax, data, name in zip(axes.ravel(), data_sets, ['iris', 'digits',\n",
        "                                                    'circles', 'moons']):\n",
        "    plot_on_dataset(*data, ax=ax, name=name)\n",
        "\n",
        "fig.legend(ax.get_lines(), labels, ncol=3, loc=\"upper center\")"
      ],
      "execution_count": 0,
      "outputs": []
    }
  ]
}